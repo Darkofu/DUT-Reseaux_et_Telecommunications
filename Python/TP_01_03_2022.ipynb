{
  "nbformat": 4,
  "nbformat_minor": 0,
  "metadata": {
    "colab": {
      "name": "TP 01/03/2022.ipynb",
      "provenance": [],
      "collapsed_sections": []
    },
    "kernelspec": {
      "name": "python3",
      "display_name": "Python 3"
    },
    "language_info": {
      "name": "python"
    }
  },
  "cells": [
    {
      "cell_type": "markdown",
      "source": [
        "Jérémy TO RT2A2\n",
        "TP Python 01/03/2022"
      ],
      "metadata": {
        "id": "GPFw5E3kCvUS"
      }
    },
    {
      "cell_type": "markdown",
      "source": [
        "Ce notebook contient les classes LSC, Noeud, Pile et les Tours de Hanoi\n"
      ],
      "metadata": {
        "id": "wOTG3VDMM1Bt"
      }
    },
    {
      "cell_type": "code",
      "source": [
        "class Noeud: #Création de la classe Noeud\n",
        "  def __init__(self,data):\n",
        "    self.val = data\n",
        "    self.suivant = None\n",
        "\n",
        "class LSC: #Création de la classe Liste Simplement Chainée\n",
        "  def __init__(self,data=None):\n",
        "    if (data is None):\n",
        "      self.debut = None\n",
        "    else:\n",
        "      self.debut = Noeud(data)\n",
        "\n",
        "  def ajouterFin(self,data): #Méthode pour ajouter à la fin d'une liste\n",
        "    if (self.debut is None):\n",
        "      self.debut = Noeud(data)\n",
        "      return\n",
        "    n = self.debut\n",
        "    while (n.suivant is not None):\n",
        "      n = n.suivant\n",
        "    n.suivant = Noeud(data)\n",
        "\n",
        "  def retirerFin(self): #Méthode pour retirer à la fin d'une liste\n",
        "    if (self.debut is None):\n",
        "      return None\n",
        "    p = self.debut\n",
        "    n = p.suivant\n",
        "    if (n is None):\n",
        "      return (self.retirerDebut())\n",
        "    if (n.suivant is None):\n",
        "      val = n.val\n",
        "      p.suivant = None\n",
        "      return val\n",
        "    while (n.suivant is not None):\n",
        "      n = n.suivant\n",
        "      p = p.suivant\n",
        "    val = n.val\n",
        "    p.suivant = None\n",
        "    return val\n",
        "\n",
        "  def ajouterDebut(self,data): #Méthode pour ajouter au début d'une liste\n",
        "    n = Noeud(data)\n",
        "    if (self.debut is None):\n",
        "      self.debut = n\n",
        "      return\n",
        "    n.suivant = self.debut\n",
        "    self.debut = n\n",
        "\n",
        "  def retirerDebut(self): #Méthode pour retirer au début d'une lisste\n",
        "    if (self.debut is None):\n",
        "      return None\n",
        "    val = self.debut.val\n",
        "    self.debut = self.debut.suivant\n",
        "    return val\n",
        "\n",
        "  def afficherListe(self): #Méthode pour afficher la liste\n",
        "    if (self.debut is None):\n",
        "      print('Liste vide')\n",
        "      return\n",
        "    n = self.debut\n",
        "    print(\"- Début de liste -------\")\n",
        "    print(n.val)\n",
        "    while (n.suivant is not None):\n",
        "      n = n.suivant\n",
        "      print(n.val)\n",
        "    print(\"- Fin de liste -------\")\n",
        "\n",
        "class Pile: #Création de la classe Pile\n",
        "  def __init__(self):\n",
        "    self.data = LSC()\n",
        "\n",
        "  def pileVide(self):\n",
        "    return self.data.debut == None\n",
        "\n",
        "  def push(self,val):\n",
        "    self.data.ajouterFin(val)\n",
        "  \n",
        "  def pop(self):\n",
        "    return self.data.retirerFin()\n",
        "\n",
        "def Hanoi(n,D,A,I): #Méthode des Tours de Hanoi\n",
        "  if n != 0:\n",
        "    Hanoi(n-1,D,I,A)\n",
        "    A.push(D.pop())\n",
        "    print(\"Tour D :\")\n",
        "    D.data.afficherListe()\n",
        "    print(\"Tour I :\")\n",
        "    I.data.afficherListe()\n",
        "    print(\"Tour A :\")\n",
        "    A.data.afficherListe()\n",
        "    Hanoi(n-1,I,A,D)\n",
        "\n",
        "#Solution des Tours de Hanoi\n",
        "n = int(input(\"Donner un nombre de disques :\"))\n",
        "\n",
        "A = Pile()\n",
        "I = Pile()\n",
        "D = Pile()\n",
        "\n",
        "for i in range(n):\n",
        "  D.push(n-i)\n",
        "\n",
        "print(\"Tour D :\")\n",
        "D.data.afficherListe()\n",
        "print(\"Tour I :\")\n",
        "I.data.afficherListe()\n",
        "print(\"Tour A :\")\n",
        "A.data.afficherListe()\n",
        "Hanoi(n,D,A,I)"
      ],
      "metadata": {
        "id": "tPMrBzBhCsmj"
      },
      "execution_count": null,
      "outputs": []
    }
  ]
}